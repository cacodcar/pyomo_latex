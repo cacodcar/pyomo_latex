{
 "cells": [
  {
   "cell_type": "code",
   "execution_count": 1,
   "metadata": {},
   "outputs": [
    {
     "name": "stdout",
     "output_type": "stream",
     "text": [
      "\\begin{equation}\n",
      "X(t) \\leq Y(t) + Z(t)\n",
      "\\end{equation}\n"
     ]
    }
   ],
   "source": [
    "from pyomo_latex.latex_renderer import latex_cons\n",
    "\n",
    "def constraint_rule(instance, t):\n",
    "    \"\"\"example constraint\n",
    "    \"\"\"\n",
    "    return instance.var1[t] <= instance.var2[t] + instance.var3[t]\n",
    "\n",
    "latex_alias_dict = {\n",
    "    'instance.':'',\n",
    "    'variable_in_pyomo': 'alias_in_latex_format',\n",
    "    'var1': 'X',\n",
    "    'var2': 'Y',\n",
    "    'var3': 'Z',\n",
    "    }\n",
    "\n",
    "\n",
    "latex_cons(constraint_rule = constraint_rule, latex_alias_dict= latex_alias_dict)"
   ]
  },
  {
   "cell_type": "code",
   "execution_count": null,
   "metadata": {},
   "outputs": [],
   "source": []
  }
 ],
 "metadata": {
  "kernelspec": {
   "display_name": "demeter",
   "language": "python",
   "name": "python3"
  },
  "language_info": {
   "codemirror_mode": {
    "name": "ipython",
    "version": 3
   },
   "file_extension": ".py",
   "mimetype": "text/x-python",
   "name": "python",
   "nbconvert_exporter": "python",
   "pygments_lexer": "ipython3",
   "version": "3.10.5"
  },
  "orig_nbformat": 4
 },
 "nbformat": 4,
 "nbformat_minor": 2
}
